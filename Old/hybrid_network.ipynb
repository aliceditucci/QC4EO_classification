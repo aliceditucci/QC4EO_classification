{
 "cells": [
  {
   "cell_type": "code",
   "execution_count": null,
   "metadata": {},
   "outputs": [],
   "source": [
    "import os\n",
    "import sys\n",
    "\n",
    "from matplotlib import pyplot as plt\n",
    "%matplotlib inline\n",
    "\n",
    "import torch.optim as optim\n",
    "from sklearn.metrics import confusion_matrix, ConfusionMatrixDisplay, classification_report\n",
    "from torchinfo import summary\n",
    "\n",
    "from qiskit_aer import Aer #change to pennylane\n",
    "\n",
    "import pennylane as qml\n",
    "\n",
    "from DatasetHandler import DatasetHandler\n",
    "from nn_model import *\n"
   ]
  },
  {
   "cell_type": "code",
   "execution_count": 21,
   "metadata": {},
   "outputs": [],
   "source": [
    "# pip install --upgrade pyosv\n",
    "# pip install mayavi"
   ]
  },
  {
   "cell_type": "code",
   "execution_count": 22,
   "metadata": {},
   "outputs": [
    {
     "name": "stdout",
     "output_type": "stream",
     "text": [
      "c:\\Users\\tuccia\\Documents\\CQTA\\Earthobservation\\test_QC4EO\n"
     ]
    }
   ],
   "source": [
    "print(os.getcwd())"
   ]
  },
  {
   "cell_type": "code",
   "execution_count": 23,
   "metadata": {},
   "outputs": [],
   "source": [
    "# dataset_root = '../EuroSAT_RGB/EuroSAT_RGB'\n",
    "dataset_root = '../EuroSAT-split/train'\n",
    "handler = DatasetHandler(dataset_root)\n",
    "dataset_root_val = '../EuroSAT-split/val'\n",
    "handler_val = DatasetHandler(dataset_root_val)"
   ]
  },
  {
   "cell_type": "code",
   "execution_count": 24,
   "metadata": {},
   "outputs": [
    {
     "data": {
      "text/plain": [
       "['AnnualCrop',\n",
       " 'Forest',\n",
       " 'HerbaceousVegetation',\n",
       " 'Highway',\n",
       " 'Industrial',\n",
       " 'Pasture',\n",
       " 'PermanentCrop',\n",
       " 'Residential',\n",
       " 'River',\n",
       " 'SeaLake']"
      ]
     },
     "execution_count": 24,
     "metadata": {},
     "output_type": "execute_result"
    }
   ],
   "source": [
    "classes = []\n",
    "for i, c in enumerate(handler.classes):\n",
    "  # cl = c.split('/')[-1]\n",
    "  cl = os.path.basename(c) #changed because windows\n",
    "  classes.append(cl)\n",
    "classes.sort()\n",
    "classes"
   ]
  },
  {
   "cell_type": "code",
   "execution_count": 25,
   "metadata": {},
   "outputs": [
    {
     "name": "stdout",
     "output_type": "stream",
     "text": [
      "Dataset images: 21600 Dataset labels: 21600\n",
      "Dataset sample -> ..\\EuroSAT-split\\train\\HerbaceousVegetation\\HerbaceousVegetation_949.tif 2\n"
     ]
    },
    {
     "data": {
      "text/plain": [
       "(array([2400., 2400., 2400., 2000., 2000., 1600., 2000., 2400., 2000.,\n",
       "        2400.]),\n",
       " array([0. , 0.9, 1.8, 2.7, 3.6, 4.5, 5.4, 6.3, 7.2, 8.1, 9. ]),\n",
       " <BarContainer object of 10 artists>)"
      ]
     },
     "execution_count": 25,
     "metadata": {},
     "output_type": "execute_result"
    },
    {
     "data": {
      "image/png": "[encoded data removed]",
      "text/plain": [
       "<Figure size 640x480 with 1 Axes>"
      ]
     },
     "metadata": {},
     "output_type": "display_data"
    }
   ],
   "source": [
    "imgs_path, imgs_label = handler.load_paths_labels(dataset_root, classes=classes)\n",
    "print('Dataset images:', len(imgs_path), 'Dataset labels:', len(imgs_label))\n",
    "print('Dataset sample ->', imgs_path[0], imgs_label[0])\n",
    "plt.hist(imgs_label, 10)"
   ]
  },
  {
   "cell_type": "code",
   "execution_count": 26,
   "metadata": {},
   "outputs": [
    {
     "name": "stdout",
     "output_type": "stream",
     "text": [
      "Dataset images: 4400 Dataset labels: 4400\n",
      "Dataset sample -> ..\\EuroSAT-split\\train\\SeaLake\\SeaLake_488.tif 9\n"
     ]
    },
    {
     "data": {
      "text/plain": [
       "(array([2000.,    0.,    0.,    0.,    0.,    0.,    0.,    0.,    0.,\n",
       "        2400.]),\n",
       " array([8. , 8.1, 8.2, 8.3, 8.4, 8.5, 8.6, 8.7, 8.8, 8.9, 9. ]),\n",
       " <BarContainer object of 10 artists>)"
      ]
     },
     "execution_count": 26,
     "metadata": {},
     "output_type": "execute_result"
    },
    {
     "data": {
      "image/png": "[encoded data removed]",
      "text/plain": [
       "<Figure size 640x480 with 1 Axes>"
      ]
     },
     "metadata": {},
     "output_type": "display_data"
    }
   ],
   "source": [
    "#Select only two classes\n",
    "classes = ['River', 'SeaLake']\n",
    "\n",
    "imgs_path, imgs_label = handler.load_paths_labels(dataset_root, classes=classes)\n",
    "print('Dataset images:', len(imgs_path), 'Dataset labels:', len(imgs_label))\n",
    "print('Dataset sample ->', imgs_path[0], imgs_label[0])\n",
    "\n",
    "plt.hist(imgs_label, 10)"
   ]
  },
  {
   "cell_type": "code",
   "execution_count": 27,
   "metadata": {},
   "outputs": [],
   "source": [
    "# #Reduce data set just as a test\n",
    "# dataset_size = 500\n",
    "# imgs_path = imgs_path[0:dataset_size]\n",
    "# imgs_label = imgs_label[0:dataset_size]\n",
    "\n",
    "# train_imgs, train_labels, val_images, val_labels = handler.train_validation_split(imgs_path, imgs_label, split_factor=0.2)\n",
    "# print('X_train shape:', train_imgs.shape, 'Y_train shape:', train_labels.shape)\n",
    "# print('  X_val shape: ', val_images.shape, '  Y_val shape: ', val_labels.shape) #NO NEED!"
   ]
  },
  {
   "cell_type": "code",
   "execution_count": 28,
   "metadata": {},
   "outputs": [
    {
     "name": "stdout",
     "output_type": "stream",
     "text": [
      "X_train shape: (4400,) Y_train shape: (4400,)\n",
      "  X_val shape:  (1100,)   Y_val shape:  (1100,)\n"
     ]
    }
   ],
   "source": [
    "#use this or cell before depending if the folders are split or not\n",
    "train_imgs = imgs_path\n",
    "train_labels = imgs_label\n",
    "val_images, val_labels = handler_val.load_paths_labels(dataset_root_val, classes=classes)  \n",
    "print('X_train shape:', train_imgs.shape, 'Y_train shape:', train_labels.shape)\n",
    "print('  X_val shape: ', val_images.shape, '  Y_val shape: ', val_labels.shape) "
   ]
  },
  {
   "cell_type": "code",
   "execution_count": 29,
   "metadata": {},
   "outputs": [],
   "source": [
    "#Rename labels since I consider only 2 classes\n",
    "\n",
    "for i in range(len(train_labels)):\n",
    "  lr = train_labels[i]\n",
    "  l = 0\n",
    "\n",
    "  if lr == 8:\n",
    "    l = 0\n",
    "  elif lr == 9:\n",
    "    l = 1\n",
    "  # if lr == 0:\n",
    "  #   l = 0\n",
    "  # elif lr == 1:\n",
    "  #   l = 1\n",
    "  \n",
    "  train_labels[i] = l\n",
    "\n",
    "for i in range(len(val_labels)):\n",
    "  lr = val_labels[i]\n",
    "  l = 0\n",
    "\n",
    "  if lr == 8:\n",
    "    l = 0\n",
    "  elif lr == 9:\n",
    "    l = 1\n",
    "  # if lr == 0:\n",
    "  #   l = 0\n",
    "  # elif lr == 1:\n",
    "  #   l = 1\n",
    "  \n",
    "  val_labels[i] = l"
   ]
  },
  {
   "cell_type": "code",
   "execution_count": 30,
   "metadata": {},
   "outputs": [
    {
     "data": {
      "text/plain": [
       "(array([2000.,    0.,    0.,    0.,    0.,    0.,    0.,    0.,    0.,\n",
       "        2400.]),\n",
       " array([0. , 0.1, 0.2, 0.3, 0.4, 0.5, 0.6, 0.7, 0.8, 0.9, 1. ]),\n",
       " <BarContainer object of 10 artists>)"
      ]
     },
     "execution_count": 30,
     "metadata": {},
     "output_type": "execute_result"
    },
    {
     "data": {
      "image/png": "[encoded data removed]",
      "text/plain": [
       "<Figure size 640x480 with 1 Axes>"
      ]
     },
     "metadata": {},
     "output_type": "display_data"
    }
   ],
   "source": [
    "plt.hist(imgs_label, 10)"
   ]
  },
  {
   "cell_type": "code",
   "execution_count": 31,
   "metadata": {},
   "outputs": [
    {
     "name": "stdout",
     "output_type": "stream",
     "text": [
      "X_train shape: (400,) Y_train shape: (400,)\n",
      "  X_val shape:  (100,)   Y_val shape:  (100,)\n"
     ]
    }
   ],
   "source": [
    "#JUST FOR QUICK TESTING!!! \n",
    "\n",
    "#Reduce data set just as a test\n",
    "dataset_size = 400\n",
    "train_imgs = train_imgs[0:dataset_size]\n",
    "train_labels = train_labels[0:dataset_size]\n",
    "\n",
    "dataset_size = 100\n",
    "val_images = val_images[0:dataset_size]\n",
    "val_labels = val_labels[0:dataset_size]\n",
    "\n",
    "print('X_train shape:', train_imgs.shape, 'Y_train shape:', train_labels.shape)\n",
    "print('  X_val shape: ', val_images.shape, '  Y_val shape: ', val_labels.shape) "
   ]
  },
  {
   "cell_type": "code",
   "execution_count": 32,
   "metadata": {},
   "outputs": [
    {
     "data": {
      "text/plain": [
       "(array([174.,   0.,   0.,   0.,   0.,   0.,   0.,   0.,   0., 226.]),\n",
       " array([0. , 0.1, 0.2, 0.3, 0.4, 0.5, 0.6, 0.7, 0.8, 0.9, 1. ]),\n",
       " <BarContainer object of 10 artists>)"
      ]
     },
     "execution_count": 32,
     "metadata": {},
     "output_type": "execute_result"
    },
    {
     "data": {
      "image/png": "[encoded data removed]",
      "text/plain": [
       "<Figure size 640x480 with 1 Axes>"
      ]
     },
     "metadata": {},
     "output_type": "display_data"
    }
   ],
   "source": [
    "plt.hist(train_labels, 10)"
   ]
  },
  {
   "cell_type": "code",
   "execution_count": 33,
   "metadata": {},
   "outputs": [],
   "source": [
    "#np.random.seed = 314\n",
    "\n",
    "NUM_QUBITS = 4\n",
    "NUM_SHOTS = 800 #3000\n",
    "SHIFT = np.pi/4\n",
    "LEARNING_RATE = 0.0002\n",
    "MOMENTUM = 0.5\n",
    "\n",
    "# SIMULATOR = Aer.get_backend('ibmq_qasm_simulator')\n",
    "SIMULATOR = Aer.get_backend('qasm_simulator')\n",
    "\n",
    "# dev = qml.device('lightning.qubit', wires=NUM_QUBITS)\n",
    "dev = qml.device('default.qubit', wires=NUM_QUBITS)\n",
    "\n",
    "channels = 13\n",
    "    \n",
    "# network = Net(NUM_QUBITS)#.to(device)\n",
    "network = Net(NUM_QUBITS, backend=SIMULATOR, shift=SHIFT, shots=NUM_SHOTS)\n",
    "optimizer = optim.Adam(network.parameters(), lr=0.0002)"
   ]
  },
  {
   "cell_type": "code",
   "execution_count": 34,
   "metadata": {},
   "outputs": [],
   "source": [
    "if channels == 3:\n",
    "    train_loader = iter(handler.qcnn_data_loader(train_imgs, train_labels, batch_size = 1, img_shape = (64,64,channels)))\n",
    "    test_loader = iter(handler.qcnn_data_loader(val_images, val_labels, batch_size = 1, img_shape = (64,64,channels)))\n",
    "\n",
    "elif channels == 13:\n",
    "    train_loader = iter(handler.ms_data_loader(train_imgs, train_labels, batch_size = 1, img_shape = (64,64,3), bands = [3,2,1])) # 3 for grb reduciton\n",
    "    test_loader = iter(handler_val.ms_data_loader(val_images, val_labels, batch_size = 1, img_shape = (64,64,3), bands = [3,2,1] ))\n",
    "    # train_loader = iter(handler.ms_data_loader(train_imgs, train_labels, batch_size = 1, img_shape = (64,64,channels), bands = np.arange(channels))) \n",
    "    # test_loader = iter(handler_val.ms_data_loader(val_images, val_labels, batch_size = 1, img_shape = (64,64,channels), bands = np.arange(channels) ))\n",
    "\n",
    "else:\n",
    "    sys.stderr.write('check dataset')\n",
    "    sys.exit()\n"
   ]
  },
  {
   "cell_type": "code",
   "execution_count": null,
   "metadata": {},
   "outputs": [
    {
     "name": "stdout",
     "output_type": "stream",
     "text": [
      "data shape torch.Size([1, 3, 64, 64])\n",
      "<class 'torch.Tensor'>\n",
      "tensor(0.0936)\n",
      "Does data require gradients? False\n",
      "Does data[0,0,0,0] require gradients? False\n"
     ]
    }
   ],
   "source": [
    "data, target = next(train_loader) \n",
    "print('data shape', data.shape)\n",
    "print(type(data[0,0,0,0]))\n",
    "print(data[0,0,0,0])\n",
    "\n",
    "# Check if the tensor requires gradients\n",
    "print('Does data require gradients?', data.requires_grad)\n",
    "print('Does data[0,0,0,0] require gradients?', data[0,0,0,0].requires_grad)"
   ]
  },
  {
   "cell_type": "code",
   "execution_count": null,
   "metadata": {},
   "outputs": [
    {
     "name": "stdout",
     "output_type": "stream",
     "text": [
      "Input size: torch.Size([1, 3, 64, 64])\n",
      "Number of trainable parameters: 32825\n"
     ]
    },
    {
     "data": {
      "text/plain": [
       "==========================================================================================\n",
       "Layer (type:depth-idx)                   Output Shape              Param #\n",
       "==========================================================================================\n",
       "Net                                      [1, 2]                    6\n",
       "├─Conv2d: 1-1                            [1, 16, 62, 62]           448\n",
       "├─Conv2d: 1-2                            [1, 32, 29, 29]           4,640\n",
       "├─Conv2d: 1-3                            [1, 64, 12, 12]           18,496\n",
       "├─Linear: 1-4                            [1, 4]                    9,220\n",
       "├─TorchLayer: 1-5                        [1, 2]                    15\n",
       "==========================================================================================\n",
       "Total params: 32,825\n",
       "Trainable params: 32,825\n",
       "Non-trainable params: 0\n",
       "Total mult-adds (Units.MEGABYTES): 8.30\n",
       "==========================================================================================\n",
       "Input size (MB): 0.05\n",
       "Forward/backward pass size (MB): 0.78\n",
       "Params size (MB): 0.13\n",
       "Estimated Total Size (MB): 0.96\n",
       "=========================================================================================="
      ]
     },
     "execution_count": 36,
     "metadata": {},
     "output_type": "execute_result"
    }
   ],
   "source": [
    "# Get one batch from the train_loader\n",
    "images, labels = next(train_loader)\n",
    "\n",
    "# Print the shape of the images\n",
    "print(\"Input size:\", images.shape)\n",
    "\n",
    "def count_parameters(model):\n",
    "    return sum(p.numel() for p in model.parameters() if p.requires_grad)\n",
    "\n",
    "print(\"Number of trainable parameters:\", count_parameters(network))\n",
    "summary(network, input_size=images.shape)\n"
   ]
  },
  {
   "cell_type": "code",
   "execution_count": null,
   "metadata": {},
   "outputs": [
    {
     "name": "stdout",
     "output_type": "stream",
     "text": [
      " Epoch 0 ~ Batch 399 (399) ~ Loss 0.603280 \t\tTraining [4%]\t Training Loss: 0.6804 Validation Loss: 0.6618\n",
      " Epoch 1 ~ Batch 399 (399) ~ Loss 0.502412 \t\tTraining [8%]\t Training Loss: 0.6176 Validation Loss: 0.6258\n",
      "[[0.92307692 0.07692308]\n",
      " [0.45833333 0.54166667]]\n",
      "              precision    recall  f1-score   support\n",
      "\n",
      "       River     0.6857    0.9231    0.7869        52\n",
      "     SeaLake     0.8667    0.5417    0.6667        48\n",
      "\n",
      "    accuracy                         0.7400       100\n",
      "   macro avg     0.7762    0.7324    0.7268       100\n",
      "weighted avg     0.7726    0.7400    0.7292       100\n",
      "\n",
      " Epoch 2 ~ Batch 399 (399) ~ Loss 0.496885 \t\tTraining [12%]\t Training Loss: 0.5989 Validation Loss: 0.6127\n",
      " Epoch 3 ~ Batch 399 (399) ~ Loss 0.805805 \t\tTraining [16%]\t Training Loss: 0.5904 Validation Loss: 0.5768\n",
      " Epoch 4 ~ Batch 399 (399) ~ Loss 0.491339 \t\tTraining [20%]\t Training Loss: 0.5961 Validation Loss: 0.5702\n",
      "[[0.89090909 0.10909091]\n",
      " [0.4        0.6       ]]\n",
      "              precision    recall  f1-score   support\n",
      "\n",
      "       River     0.7313    0.8909    0.8033        55\n",
      "     SeaLake     0.8182    0.6000    0.6923        45\n",
      "\n",
      "    accuracy                         0.7600       100\n",
      "   macro avg     0.7748    0.7455    0.7478       100\n",
      "weighted avg     0.7704    0.7600    0.7533       100\n",
      "\n",
      " Epoch 5 ~ Batch 399 (399) ~ Loss 0.843671 \t\tTraining [24%]\t Training Loss: 0.5624 Validation Loss: 0.5659\n",
      " Epoch 6 ~ Batch 399 (399) ~ Loss 0.469936 \t\tTraining [28%]\t Training Loss: 0.5696 Validation Loss: 0.5546\n",
      " Epoch 7 ~ Batch 399 (399) ~ Loss 0.434665 \t\tTraining [32%]\t Training Loss: 0.5674 Validation Loss: 0.5608\n",
      "[[0.89473684 0.10526316]\n",
      " [0.29032258 0.70967742]]\n",
      "              precision    recall  f1-score   support\n",
      "\n",
      "       River     0.6538    0.8947    0.7556        38\n",
      "     SeaLake     0.9167    0.7097    0.8000        62\n",
      "\n",
      "    accuracy                         0.7800       100\n",
      "   macro avg     0.7853    0.8022    0.7778       100\n",
      "weighted avg     0.8168    0.7800    0.7831       100\n",
      "\n",
      " Epoch 8 ~ Batch 399 (399) ~ Loss 0.431294 \t\tTraining [36%]\t Training Loss: 0.5445 Validation Loss: 0.5539\n",
      " Epoch 9 ~ Batch 399 (399) ~ Loss 0.435855 \t\tTraining [40%]\t Training Loss: 0.5379 Validation Loss: 0.5414\n",
      " Epoch 10 ~ Batch 399 (399) ~ Loss 1.055880 \t\tTraining [44%]\t Training Loss: 0.5288 Validation Loss: 0.5264\n",
      "[[0.95348837 0.04651163]\n",
      " [0.24561404 0.75438596]]\n",
      "              precision    recall  f1-score   support\n",
      "\n",
      "       River     0.7455    0.9535    0.8367        43\n",
      "     SeaLake     0.9556    0.7544    0.8431        57\n",
      "\n",
      "    accuracy                         0.8400       100\n",
      "   macro avg     0.8505    0.8539    0.8399       100\n",
      "weighted avg     0.8652    0.8400    0.8404       100\n",
      "\n",
      " Epoch 11 ~ Batch 399 (399) ~ Loss 0.420621 \t\tTraining [48%]\t Training Loss: 0.5135 Validation Loss: 0.5176\n",
      " Epoch 12 ~ Batch 399 (399) ~ Loss 0.713885 \t\tTraining [52%]\t Training Loss: 0.5040 Validation Loss: 0.4999\n",
      " Epoch 13 ~ Batch 399 (399) ~ Loss 0.431706 \t\tTraining [56%]\t Training Loss: 0.5067 Validation Loss: 0.5149\n",
      "[[0.91489362 0.08510638]\n",
      " [0.28301887 0.71698113]]\n",
      "              precision    recall  f1-score   support\n",
      "\n",
      "       River     0.7414    0.9149    0.8190        47\n",
      "     SeaLake     0.9048    0.7170    0.8000        53\n",
      "\n",
      "    accuracy                         0.8100       100\n",
      "   macro avg     0.8231    0.8159    0.8095       100\n",
      "weighted avg     0.8280    0.8100    0.8090       100\n",
      "\n",
      " Epoch 14 ~ Batch 399 (399) ~ Loss 0.399469 \t\tTraining [60%]\t Training Loss: 0.4871 Validation Loss: 0.4888\n",
      " Epoch 15 ~ Batch 399 (399) ~ Loss 0.629411 \t\tTraining [64%]\t Training Loss: 0.5048 Validation Loss: 0.5007\n",
      " Epoch 16 ~ Batch 399 (399) ~ Loss 0.402942 \t\tTraining [68%]\t Training Loss: 0.4881 Validation Loss: 0.5364\n",
      "[[0.71428571 0.28571429]\n",
      " [0.07843137 0.92156863]]\n",
      "              precision    recall  f1-score   support\n",
      "\n",
      "       River     0.8974    0.7143    0.7955        49\n",
      "     SeaLake     0.7705    0.9216    0.8393        51\n",
      "\n",
      "    accuracy                         0.8200       100\n",
      "   macro avg     0.8340    0.8179    0.8174       100\n",
      "weighted avg     0.8327    0.8200    0.8178       100\n",
      "\n",
      " Epoch 17 ~ Batch 399 (399) ~ Loss 0.400419 \t\tTraining [72%]\t Training Loss: 0.4737 Validation Loss: 0.5006\n",
      " Epoch 18 ~ Batch 399 (399) ~ Loss 0.409858 \t\tTraining [76%]\t Training Loss: 0.4717 Validation Loss: 0.4743\n",
      " Epoch 19 ~ Batch 399 (399) ~ Loss 0.507031 \t\tTraining [80%]\t Training Loss: 0.4557 Validation Loss: 0.4885\n",
      "[[0.88461538 0.11538462]\n",
      " [0.08333333 0.91666667]]\n",
      "              precision    recall  f1-score   support\n",
      "\n",
      "       River     0.9200    0.8846    0.9020        52\n",
      "     SeaLake     0.8800    0.9167    0.8980        48\n",
      "\n",
      "    accuracy                         0.9000       100\n",
      "   macro avg     0.9000    0.9006    0.9000       100\n",
      "weighted avg     0.9008    0.9000    0.9000       100\n",
      "\n",
      " Epoch 20 ~ Batch 399 (399) ~ Loss 0.394036 \t\tTraining [84%]\t Training Loss: 0.4745 Validation Loss: 0.4872\n",
      " Epoch 21 ~ Batch 399 (399) ~ Loss 0.417613 \t\tTraining [88%]\t Training Loss: 0.4543 Validation Loss: 0.4759\n",
      " Epoch 22 ~ Batch 399 (399) ~ Loss 0.631608 \t\tTraining [92%]\t Training Loss: 0.4534 Validation Loss: 0.4907\n",
      "[[0.89795918 0.10204082]\n",
      " [0.05882353 0.94117647]]\n",
      "              precision    recall  f1-score   support\n",
      "\n",
      "       River     0.9362    0.8980    0.9167        49\n",
      "     SeaLake     0.9057    0.9412    0.9231        51\n",
      "\n",
      "    accuracy                         0.9200       100\n",
      "   macro avg     0.9209    0.9196    0.9199       100\n",
      "weighted avg     0.9206    0.9200    0.9199       100\n",
      "\n",
      " Epoch 23 ~ Batch 399 (399) ~ Loss 0.388769 \t\tTraining [96%]\t Training Loss: 0.4454 Validation Loss: 0.4691\n",
      " Epoch 24 ~ Batch 399 (399) ~ Loss 0.457078 \t\tTraining [100%]\t Training Loss: 0.4574 Validation Loss: 0.4736\n"
     ]
    }
   ],
   "source": [
    "train_loss_list = []\n",
    "val_loss_list = []\n",
    "epochs = 25\n",
    "\n",
    "loss_func = nn.CrossEntropyLoss()\n",
    "# loss_func = nn.BCELoss()\n",
    "\n",
    "for epoch in range(epochs):\n",
    "  # train_loader = iter(handler.qcnn_data_loader(train_imgs, train_labels, batch_size = 1, img_shape = (64,64,3)))\n",
    "  # test_loader = iter(handler.qcnn_data_loader(val_images, val_labels, batch_size = 1, img_shape = (64,64,3)))\n",
    "\n",
    "  if channels == 3:\n",
    "    train_loader = iter(handler.qcnn_data_loader(train_imgs, train_labels, batch_size = 1, img_shape = (64,64,channels)))\n",
    "    test_loader = iter(handler.qcnn_data_loader(val_images, val_labels, batch_size = 1, img_shape = (64,64,channels)))\n",
    "\n",
    "  elif channels == 13:\n",
    "    train_loader = iter(handler.ms_data_loader(train_imgs, train_labels, batch_size = 1, img_shape = (64,64,3), bands = [3,2,1])) # 3 for grb reduciton\n",
    "    test_loader = iter(handler_val.ms_data_loader(val_images, val_labels, batch_size = 1, img_shape = (64,64,3), bands = [3,2,1] ))\n",
    "    # train_loader = iter(handler.ms_data_loader(train_imgs, train_labels, batch_size = 1, img_shape = (64,64,channels), bands = np.arange(channels))) \n",
    "    # test_loader = iter(handler_val.ms_data_loader(val_images, val_labels, batch_size = 1, img_shape = (64,64,channels), bands = np.arange(channels) ))\n",
    "\n",
    "  else:\n",
    "    sys.stderr.write('check dataset')\n",
    "    sys.exit()\n",
    "\n",
    "  total_loss = []\n",
    "\n",
    "  for batch_idx in range(len(train_labels)):\n",
    "    data, target = next(train_loader) \n",
    "    # print(batch_idx)\n",
    "    optimizer.zero_grad()        \n",
    "    # Forward pass\n",
    "    output = network(data)\n",
    "    # Calculating loss\n",
    "    # loss = loss_func(output, target.float()) #change to this if # loss_func = nn.BCELoss()\n",
    "    loss = loss_func(output, target) \n",
    "    # Backward pass\n",
    "    loss.backward()\n",
    "\n",
    "    # Print quantum layer gradients\n",
    "    # print(\"Gradients for qlayer:\")\n",
    "    # print(network.qlayer.weights.grad)\n",
    "    # print(network.fc4.weight.grad)\n",
    "    # print(network.fc5.bias.grad)\n",
    "\n",
    "    # Optimize the weights\n",
    "    optimizer.step()\n",
    "    \n",
    "    total_loss.append(loss.item())\n",
    "    \n",
    "    print('\\r Epoch %d ~ Batch %d (%d) ~ Loss %f ' % (epoch, batch_idx, len(train_imgs)-1, loss.item()), end='\\t\\t')\n",
    "    \n",
    "  \n",
    "  with torch.no_grad():\n",
    "    val_loss = []\n",
    "    targets = []\n",
    "    predictions = []\n",
    "    for batch_idx in range(len(val_images)):\n",
    "      data, target = next(test_loader)\n",
    "      output = network(data)\n",
    "      loss = loss_func(output, target)\n",
    "      # loss = loss_func(output, target.float())\n",
    "      val_loss.append(loss.item())\n",
    "\n",
    "      targets.append(target.item())\n",
    "      \n",
    "      predictions.append(network.predict(data).item())\n",
    "  \n",
    "      \n",
    "  train_loss_list.append(sum(total_loss)/len(total_loss))\n",
    "  val_loss_list.append(sum(val_loss)/len(val_loss))\n",
    "  \n",
    "  print('Training [{:.0f}%]\\t Training Loss: {:.4f} Validation Loss: {:.4f}'.format(\n",
    "      100. * (epoch + 1) / epochs, train_loss_list[-1], val_loss_list[-1]))\n",
    "  \n",
    "  if epoch % 3 == 1:\n",
    "    print(confusion_matrix(targets, predictions,normalize='true'))\n",
    "    print(classification_report(targets, predictions, target_names=classes, digits=4))\n",
    "    # torch.save({\n",
    "    #         'epoch': epoch,\n",
    "    #         'model_state_dict': network.state_dict(),\n",
    "    #         'optimizer_state_dict': optimizer.state_dict(),\n",
    "    #         'loss': train_loss_list[-1],\n",
    "    #         }, '/content/drive/MyDrive/QAI4EO/model-rytextbook.pt')\n",
    "    #torch.save(network.state_dict(), '/content/drive/MyDrive/QAI4EO/model-bell.pt')"
   ]
  },
  {
   "cell_type": "code",
   "execution_count": 46,
   "metadata": {},
   "outputs": [
    {
     "data": {
      "image/png": "[encoded data removed]",
      "text/plain": [
       "<Figure size 640x480 with 1 Axes>"
      ]
     },
     "metadata": {},
     "output_type": "display_data"
    }
   ],
   "source": [
    "# fig, plt.plot(train_loss_list)\n",
    "plt.plot(train_loss_list)\n",
    "plt.plot(val_loss_list)\n",
    "plt.title('Hybrid NN Training Convergence for {}-qubit'.format(NUM_QUBITS))\n",
    "plt.xlabel('Training Iterations')\n",
    "plt.ylabel('Cross Entropy Loss')\n",
    "plt.legend(['Training', 'Validation'])\n",
    "plt.show()"
   ]
  },
  {
   "cell_type": "code",
   "execution_count": 47,
   "metadata": {},
   "outputs": [
    {
     "data": {
      "image/png": "[encoded data removed]",
      "text/plain": [
       "<Figure size 640x480 with 1 Axes>"
      ]
     },
     "metadata": {},
     "output_type": "display_data"
    }
   ],
   "source": [
    "import numpy as np\n",
    "import matplotlib.pyplot as plt\n",
    "from scipy.optimize import curve_fit\n",
    "\n",
    "def func(x, a, b, c):\n",
    "  return a * np.exp(-b * x) + c\n",
    "\n",
    "x = np.linspace(0,len(train_loss_list),len(train_loss_list))\n",
    "y = func(x, 2.5, 1.3, 0.5)\n",
    "yn = np.array(val_loss_list)\n",
    "\n",
    "popt, pcov = curve_fit(func, x, yn)\n",
    "\n",
    "plt.figure()\n",
    "x1 = np.linspace(0,100+len(train_loss_list),100+len(train_loss_list))\n",
    "plt.plot(x, yn, 'ko', label=\"Loss\")\n",
    "plt.plot(x1, func(x1, *popt), 'r-', label=\"Fitted Curve\")\n",
    "plt.legend()\n",
    "plt.show()"
   ]
  },
  {
   "cell_type": "code",
   "execution_count": 48,
   "metadata": {},
   "outputs": [
    {
     "name": "stdout",
     "output_type": "stream",
     "text": [
      " 99"
     ]
    }
   ],
   "source": [
    "if channels == 3:\n",
    "  train_loader = iter(handler.qcnn_data_loader(train_imgs, train_labels, batch_size = 1, img_shape = (64,64,channels)))\n",
    "  test_loader = iter(handler.qcnn_data_loader(val_images, val_labels, batch_size = 1, img_shape = (64,64,channels)))\n",
    "\n",
    "elif channels == 13:\n",
    "  train_loader = iter(handler.ms_data_loader(train_imgs, train_labels, batch_size = 1, img_shape = (64,64,3), bands = [3,2,1])) # 3 for grb reduciton\n",
    "  test_loader = iter(handler_val.ms_data_loader(val_images, val_labels, batch_size = 1, img_shape = (64,64,3), bands = [3,2,1] ))\n",
    "  # train_loader = iter(handler.ms_data_loader(train_imgs, train_labels, batch_size = 1, img_shape = (64,64,channels), bands = np.arange(channels))) \n",
    "  # test_loader = iter(handler_val.ms_data_loader(val_images, val_labels, batch_size = 1, img_shape = (64,64,channels), bands = np.arange(channels) ))\n",
    "\n",
    "else:\n",
    "  sys.stderr.write('check dataset')\n",
    "  sys.exit()\n",
    "  \n",
    "accuracy = 0\n",
    "number = 0\n",
    "\n",
    "predictions = []\n",
    "targets = []\n",
    "\n",
    "for ct in range(len(val_images)):\n",
    "\n",
    "  data, target = next(test_loader)\n",
    "  number +=1\n",
    "  output = network.predict(data).item()\n",
    "  \n",
    "  predictions.append(output)\n",
    "  targets.append(target.item())\n",
    "  \n",
    "  accuracy += (output == target[0].item())*1\n",
    "  print('\\r ' + str(ct), end='')"
   ]
  },
  {
   "cell_type": "code",
   "execution_count": 49,
   "metadata": {},
   "outputs": [
    {
     "data": {
      "text/plain": [
       "(array([47.,  0.,  0.,  0.,  0.,  0.,  0.,  0.,  0., 53.]),\n",
       " array([0. , 0.1, 0.2, 0.3, 0.4, 0.5, 0.6, 0.7, 0.8, 0.9, 1. ]),\n",
       " <BarContainer object of 10 artists>)"
      ]
     },
     "execution_count": 49,
     "metadata": {},
     "output_type": "execute_result"
    },
    {
     "data": {
      "image/png": "[encoded data removed]",
      "text/plain": [
       "<Figure size 640x480 with 1 Axes>"
      ]
     },
     "metadata": {},
     "output_type": "display_data"
    }
   ],
   "source": [
    "plt.hist(targets, bins = 10)"
   ]
  },
  {
   "cell_type": "code",
   "execution_count": 50,
   "metadata": {},
   "outputs": [
    {
     "name": "stdout",
     "output_type": "stream",
     "text": [
      "Performance on test data is : 92/100 = 92.0%\n"
     ]
    }
   ],
   "source": [
    "print(\"Performance on test data is : {}/{} = {}%\".format(accuracy,number,100*accuracy/number))"
   ]
  },
  {
   "cell_type": "code",
   "execution_count": null,
   "metadata": {},
   "outputs": [],
   "source": [
    "cm = confusion_matrix(targets, predictions,normalize='true')"
   ]
  },
  {
   "cell_type": "code",
   "execution_count": 52,
   "metadata": {},
   "outputs": [
    {
     "name": "stdout",
     "output_type": "stream",
     "text": [
      "S2\n",
      "Accuracy: [0.93617021 0.90566038] mean:  0.920915295062224\n",
      "              precision    recall  f1-score   support\n",
      "\n",
      "       River     0.8980    0.9362    0.9167        47\n",
      "     SeaLake     0.9412    0.9057    0.9231        53\n",
      "\n",
      "    accuracy                         0.9200       100\n",
      "   macro avg     0.9196    0.9209    0.9199       100\n",
      "weighted avg     0.9209    0.9200    0.9201       100\n",
      "\n"
     ]
    },
    {
     "data": {
      "image/png": "[encoded data removed]",
      "text/plain": [
       "<Figure size 1200x1000 with 2 Axes>"
      ]
     },
     "metadata": {},
     "output_type": "display_data"
    }
   ],
   "source": [
    "fig, axes = plt.subplots(nrows = 1, ncols = 1, figsize = (12,10))\n",
    "\n",
    "cmd = ConfusionMatrixDisplay(cm, display_labels=classes)\n",
    "cmd.plot(ax=axes, cmap='Blues', xticks_rotation='vertical')\n",
    "print('S2')\n",
    "print('Accuracy:', cm.diagonal(), 'mean: ', cm.diagonal().mean())\n",
    "print(classification_report(targets, predictions, target_names=classes, digits=4))\n",
    "axes.get_images()[0].set_clim(0, 1)\n",
    "plt.show()\n",
    "plt.close()"
   ]
  },
  {
   "cell_type": "code",
   "execution_count": null,
   "metadata": {},
   "outputs": [],
   "source": []
  }
 ],
 "metadata": {
  "kernelspec": {
   "display_name": "qceo_env",
   "language": "python",
   "name": "python3"
  },
  "language_info": {
   "codemirror_mode": {
    "name": "ipython",
    "version": 3
   },
   "file_extension": ".py",
   "mimetype": "text/x-python",
   "name": "python",
   "nbconvert_exporter": "python",
   "pygments_lexer": "ipython3",
   "version": "3.12.8"
  }
 },
 "nbformat": 4,
 "nbformat_minor": 2
}
